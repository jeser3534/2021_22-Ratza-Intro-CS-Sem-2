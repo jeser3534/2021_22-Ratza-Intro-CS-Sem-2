{
  "nbformat": 4,
  "nbformat_minor": 0,
  "metadata": {
    "colab": {
      "name": "JESSE SERGENT - Copy of python_basics_assignment.ipynb",
      "provenance": [],
      "collapsed_sections": [],
      "include_colab_link": true
    },
    "kernelspec": {
      "name": "python3",
      "display_name": "Python 3"
    },
    "language_info": {
      "name": "python"
    }
  },
  "cells": [
    {
      "cell_type": "markdown",
      "metadata": {
        "id": "view-in-github",
        "colab_type": "text"
      },
      "source": [
        "<a href=\"https://colab.research.google.com/github/jeser3534/2021_22-Ratza-Intro-CS-Sem-2/blob/main/Sprint-1-Python-Basics/01_python_basics_assignment.ipynb\" target=\"_parent\"><img src=\"https://colab.research.google.com/assets/colab-badge.svg\" alt=\"Open In Colab\"/></a>"
      ]
    },
    {
      "cell_type": "markdown",
      "source": [
        "### Key Terms\n",
        "\n",
        "Complete the following questions to solidify you're understanding of the key concepts. Feel free to use the lecture notebook or any other resources to help you, but do not copy and paste answers from the internet instead use your own words to present your understanding.\n",
        "\n",
        "----"
      ],
      "metadata": {
        "id": "2cOCCaF6Q4ys"
      }
    },
    {
      "cell_type": "markdown",
      "source": [
        "What is a general use programming language?"
      ],
      "metadata": {
        "id": "e_bDYmbjRHNc"
      }
    },
    {
      "cell_type": "markdown",
      "source": [
        "**it has a wide variety of applications and use cases**"
      ],
      "metadata": {
        "id": "tCrkMUgx16Rc"
      }
    },
    {
      "cell_type": "markdown",
      "source": [
        "Who invented Python and when?"
      ],
      "metadata": {
        "id": "X4j6a8y4RHGG"
      }
    },
    {
      "cell_type": "markdown",
      "source": [
        "**Guido Van Rossum, 1980s**"
      ],
      "metadata": {
        "id": "d9jd_A9c2Jrw"
      }
    },
    {
      "cell_type": "markdown",
      "source": [
        "What is the difference between front-end and back-end?"
      ],
      "metadata": {
        "id": "RHkgvf39RHBm"
      }
    },
    {
      "cell_type": "markdown",
      "source": [
        "**front end is more noticable, the back end is not**"
      ],
      "metadata": {
        "id": "cl7LFD3pRG_H"
      }
    },
    {
      "cell_type": "markdown",
      "source": [
        "What is a GUI?"
      ],
      "metadata": {
        "id": "oTkkpwhVRG80"
      }
    },
    {
      "cell_type": "markdown",
      "source": [
        "**graphical user interface**"
      ],
      "metadata": {
        "id": "aoVSrA67RG6D"
      }
    },
    {
      "cell_type": "markdown",
      "source": [
        "What is an API?"
      ],
      "metadata": {
        "id": "nHjQwFW1RG4C"
      }
    },
    {
      "cell_type": "markdown",
      "source": [
        "**aplication program interface**"
      ],
      "metadata": {
        "id": "0A6LKX_5RG1x"
      }
    },
    {
      "cell_type": "markdown",
      "source": [
        "What is Open Source Software?"
      ],
      "metadata": {
        "id": "RWzJmW61RGzR"
      }
    },
    {
      "cell_type": "markdown",
      "source": [
        "**code that is designed to be publicaly accesible**"
      ],
      "metadata": {
        "id": "J8Lcpl46RGwu"
      }
    },
    {
      "cell_type": "markdown",
      "source": [
        "What is a development environment?"
      ],
      "metadata": {
        "id": "gob_Rgp8RGqT"
      }
    },
    {
      "cell_type": "markdown",
      "source": [
        "**where a programme does their work**"
      ],
      "metadata": {
        "id": "BCPeV2UCRGZm"
      }
    },
    {
      "cell_type": "markdown",
      "source": [
        "What is meant by local and remote in the context of computers?"
      ],
      "metadata": {
        "id": "lKduQMuWSYoC"
      }
    },
    {
      "cell_type": "markdown",
      "source": [
        "**remote is onlibne and local is in the pc in front of you**"
      ],
      "metadata": {
        "id": "GcJMiJjFSfO2"
      }
    },
    {
      "cell_type": "markdown",
      "source": [
        "What is an operating system?"
      ],
      "metadata": {
        "id": "cb6Coc48Sgev"
      }
    },
    {
      "cell_type": "markdown",
      "source": [
        "**majority of the people interact with the computer**"
      ],
      "metadata": {
        "id": "586kJGbvSlw5"
      }
    },
    {
      "cell_type": "markdown",
      "source": [
        "What is a kernel?"
      ],
      "metadata": {
        "id": "7tRiStzGSltk"
      }
    },
    {
      "cell_type": "markdown",
      "source": [
        "**it gives the OS the control over the things that makes it up**"
      ],
      "metadata": {
        "id": "jp5g1ZgWSlq6"
      }
    },
    {
      "cell_type": "markdown",
      "source": [
        "What is a shell?"
      ],
      "metadata": {
        "id": "WdOAakQJSloH"
      }
    },
    {
      "cell_type": "markdown",
      "source": [
        "**program that exposes the OS to a human user or other programs**"
      ],
      "metadata": {
        "id": "Gpaic8JSSlle"
      }
    },
    {
      "cell_type": "markdown",
      "source": [
        "What shell do we have access to in Colab notebooks?"
      ],
      "metadata": {
        "id": "hn5QICK0Slio"
      }
    },
    {
      "cell_type": "markdown",
      "source": [
        "**our accounts and links to other sources**"
      ],
      "metadata": {
        "id": "vYRb0JJXSlfx"
      }
    },
    {
      "cell_type": "markdown",
      "source": [
        "What is an interpreter?"
      ],
      "metadata": {
        "id": "dmgmzh-ISldB"
      }
    },
    {
      "cell_type": "markdown",
      "source": [
        "**it converts code to regular english**"
      ],
      "metadata": {
        "id": "Y79bP4GLS3bI"
      }
    },
    {
      "cell_type": "markdown",
      "source": [
        "What is a value in programming?"
      ],
      "metadata": {
        "id": "A2q30j02S3G3"
      }
    },
    {
      "cell_type": "markdown",
      "source": [
        "**something that can be manipulated by a program**"
      ],
      "metadata": {
        "id": "ilES-rT6S9vm"
      }
    },
    {
      "cell_type": "markdown",
      "source": [
        "What is an expression in programming?"
      ],
      "metadata": {
        "id": "KI34llQnS--5"
      }
    },
    {
      "cell_type": "markdown",
      "source": [
        "**a combination of values and functions that are combined and interpreted by the compiler to create a new value**"
      ],
      "metadata": {
        "id": "VHXYGhIcTBw9"
      }
    },
    {
      "cell_type": "markdown",
      "source": [
        "What is syntax?"
      ],
      "metadata": {
        "id": "pmKFicLMTCcD"
      }
    },
    {
      "cell_type": "markdown",
      "source": [
        "**syntax is basically grammar**"
      ],
      "metadata": {
        "id": "sqCxeE2TTKvy"
      }
    },
    {
      "cell_type": "markdown",
      "source": [
        "What do we call the process of discovering and resolving errors?"
      ],
      "metadata": {
        "id": "B8m5jqm6TLHE"
      }
    },
    {
      "cell_type": "markdown",
      "source": [
        "**debuging**"
      ],
      "metadata": {
        "id": "0TozR78oTRK4"
      }
    },
    {
      "cell_type": "markdown",
      "source": [
        "### Code"
      ],
      "metadata": {
        "id": "OJR_RDQpTRyR"
      }
    },
    {
      "cell_type": "markdown",
      "source": [
        "Let's revisit some of the things we practiced in the lecture. In the code cell below print your name to the console without first declaring it as a variable."
      ],
      "metadata": {
        "id": "zPvODBfiTWCP"
      }
    },
    {
      "cell_type": "code",
      "source": [
        "print('Jesse')"
      ],
      "metadata": {
        "id": "mZb-v_UwTO7B",
        "colab": {
          "base_uri": "https://localhost:8080/"
        },
        "outputId": "3ec969f6-48a8-4726-d39b-08fe44d2d6c5"
      },
      "execution_count": null,
      "outputs": [
        {
          "output_type": "stream",
          "name": "stdout",
          "text": [
            "Jesse\n"
          ]
        }
      ]
    },
    {
      "cell_type": "markdown",
      "source": [
        "Now declare your first name and last name as separate variables and combine them in the print statement."
      ],
      "metadata": {
        "id": "sZPksnwpTnTD"
      }
    },
    {
      "cell_type": "code",
      "source": [
        "name=\"Jesse\"\n",
        "last_name=\" Sergent\"\n",
        "print(name+last_name)"
      ],
      "metadata": {
        "id": "oqmZRhYLTztw",
        "colab": {
          "base_uri": "https://localhost:8080/"
        },
        "outputId": "6d784d32-50be-413d-be7e-6cee552e1510"
      },
      "execution_count": null,
      "outputs": [
        {
          "output_type": "stream",
          "name": "stdout",
          "text": [
            "Jesse Sergent\n"
          ]
        }
      ]
    },
    {
      "cell_type": "markdown",
      "source": [
        "In the cell below run the \"Zen of Python\" easter egg."
      ],
      "metadata": {
        "id": "cNe3K4WZT2_0"
      }
    },
    {
      "cell_type": "code",
      "source": [
        "import this"
      ],
      "metadata": {
        "id": "FSkN7Q52UKyU",
        "colab": {
          "base_uri": "https://localhost:8080/"
        },
        "outputId": "27b64352-9c46-4e26-eb32-6114c6fd381d"
      },
      "execution_count": null,
      "outputs": [
        {
          "output_type": "stream",
          "name": "stdout",
          "text": [
            "The Zen of Python, by Tim Peters\n",
            "\n",
            "Beautiful is better than ugly.\n",
            "Explicit is better than implicit.\n",
            "Simple is better than complex.\n",
            "Complex is better than complicated.\n",
            "Flat is better than nested.\n",
            "Sparse is better than dense.\n",
            "Readability counts.\n",
            "Special cases aren't special enough to break the rules.\n",
            "Although practicality beats purity.\n",
            "Errors should never pass silently.\n",
            "Unless explicitly silenced.\n",
            "In the face of ambiguity, refuse the temptation to guess.\n",
            "There should be one-- and preferably only one --obvious way to do it.\n",
            "Although that way may not be obvious at first unless you're Dutch.\n",
            "Now is better than never.\n",
            "Although never is often better than *right* now.\n",
            "If the implementation is hard to explain, it's a bad idea.\n",
            "If the implementation is easy to explain, it may be a good idea.\n",
            "Namespaces are one honking great idea -- let's do more of those!\n"
          ]
        }
      ]
    },
    {
      "cell_type": "markdown",
      "source": [
        "### Explore"
      ],
      "metadata": {
        "id": "2ADI5kQAUMLI"
      }
    },
    {
      "cell_type": "markdown",
      "source": [
        "This portion of the assignment contains things we didn't explicitly cover in the lecture, instead encouraging you to explore and experiment on your own to discover some of the different operators and expressions in Python. For each expression first describe what you expect to happen before running the code cell.\n",
        "\n",
        "Documentation for Python's numeric operators can be found [here](https://docs.python.org/3.10/library/stdtypes.html#numeric-types-int-float-complex)"
      ],
      "metadata": {
        "id": "vchHFmicUOid"
      }
    },
    {
      "cell_type": "markdown",
      "source": [
        "#### `5 + 2 * 2`\n",
        "\n",
        "What do you expect to happen?"
      ],
      "metadata": {
        "id": "_lTiBbJMU28S"
      }
    },
    {
      "cell_type": "markdown",
      "source": [
        "it would first solve the multiplication then add the 5 to get the answer"
      ],
      "metadata": {
        "id": "P6-diOTwU_ir"
      }
    },
    {
      "cell_type": "code",
      "source": [
        "5+2*2"
      ],
      "metadata": {
        "id": "ALTC2aYRUNRe",
        "colab": {
          "base_uri": "https://localhost:8080/"
        },
        "outputId": "68e7d1ef-b486-4da6-b672-52fa6e0339f4"
      },
      "execution_count": null,
      "outputs": [
        {
          "output_type": "execute_result",
          "data": {
            "text/plain": [
              "9"
            ]
          },
          "metadata": {},
          "execution_count": 6
        }
      ]
    },
    {
      "cell_type": "markdown",
      "source": [
        "#### `2 / 3`\n",
        "\n",
        "What do you expect to happen?"
      ],
      "metadata": {
        "id": "zSMDH8osVEEN"
      }
    },
    {
      "cell_type": "markdown",
      "source": [
        "it wolud solve it (im confused on this one)"
      ],
      "metadata": {
        "id": "MJ_mZbouVI9_"
      }
    },
    {
      "cell_type": "code",
      "source": [
        "2/3"
      ],
      "metadata": {
        "id": "FYMUlyCEVHD1",
        "colab": {
          "base_uri": "https://localhost:8080/"
        },
        "outputId": "1738310a-ac3f-42a7-e73d-f11cb0a1b4c6"
      },
      "execution_count": null,
      "outputs": [
        {
          "output_type": "execute_result",
          "data": {
            "text/plain": [
              "0.6666666666666666"
            ]
          },
          "metadata": {},
          "execution_count": 7
        }
      ]
    },
    {
      "cell_type": "markdown",
      "source": [
        "#### `2.5 * 10`\n",
        "\n",
        "What do you expect to happen?"
      ],
      "metadata": {
        "id": "c8LQrbNQVIID"
      }
    },
    {
      "cell_type": "markdown",
      "source": [
        "it would mulitiplie them"
      ],
      "metadata": {
        "id": "J1Ts7WLEVPU-"
      }
    },
    {
      "cell_type": "code",
      "source": [
        "2.5*10"
      ],
      "metadata": {
        "id": "IuE7GclzVOpO",
        "colab": {
          "base_uri": "https://localhost:8080/"
        },
        "outputId": "c9663864-aa89-4764-ddc3-2ea69d565506"
      },
      "execution_count": null,
      "outputs": [
        {
          "output_type": "execute_result",
          "data": {
            "text/plain": [
              "25.0"
            ]
          },
          "metadata": {},
          "execution_count": 10
        }
      ]
    },
    {
      "cell_type": "markdown",
      "source": [
        "#### `a`\n",
        "\n",
        "What do you expect to happen?"
      ],
      "metadata": {
        "id": "YfKfY31nVSfy"
      }
    },
    {
      "cell_type": "markdown",
      "source": [
        "nothing"
      ],
      "metadata": {
        "id": "Y_FQACtgVVL8"
      }
    },
    {
      "cell_type": "code",
      "source": [
        "a"
      ],
      "metadata": {
        "id": "pukzPvzXVUgM"
      },
      "execution_count": null,
      "outputs": []
    },
    {
      "cell_type": "markdown",
      "source": [
        "#### `'a'`\n",
        "\n",
        "\n",
        "What do you expect to happen?"
      ],
      "metadata": {
        "id": "x_G2qoXLVhVj"
      }
    },
    {
      "cell_type": "markdown",
      "source": [
        "it would just be 'a'"
      ],
      "metadata": {
        "id": "IjTY1xn_VoB4"
      }
    },
    {
      "cell_type": "code",
      "source": [
        "'a'"
      ],
      "metadata": {
        "id": "e0PEkzRHVjVo",
        "colab": {
          "base_uri": "https://localhost:8080/",
          "height": 36
        },
        "outputId": "b2c7fad2-c008-46f5-d578-e9164b713c6a"
      },
      "execution_count": null,
      "outputs": [
        {
          "output_type": "execute_result",
          "data": {
            "application/vnd.google.colaboratory.intrinsic+json": {
              "type": "string"
            },
            "text/plain": [
              "'a'"
            ]
          },
          "metadata": {},
          "execution_count": 8
        }
      ]
    },
    {
      "cell_type": "markdown",
      "source": [
        "#### `521 // 5`\n",
        "\n",
        "What do you expect to happen?"
      ],
      "metadata": {
        "id": "2kCnvuRvVprG"
      }
    },
    {
      "cell_type": "markdown",
      "source": [
        "it would show the answer of the division but without and decimals"
      ],
      "metadata": {
        "id": "QWOocovcV3i6"
      }
    },
    {
      "cell_type": "code",
      "source": [
        "521//5"
      ],
      "metadata": {
        "id": "n9QgKjHxV7oX",
        "colab": {
          "base_uri": "https://localhost:8080/"
        },
        "outputId": "1c1a4f0e-8ead-4b7d-dc69-321e01f865e3"
      },
      "execution_count": null,
      "outputs": [
        {
          "output_type": "execute_result",
          "data": {
            "text/plain": [
              "104.2"
            ]
          },
          "metadata": {},
          "execution_count": 11
        }
      ]
    }
  ]
}